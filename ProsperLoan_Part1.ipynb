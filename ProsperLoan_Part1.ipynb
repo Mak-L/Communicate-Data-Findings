{
 "cells": [
  {
   "cell_type": "markdown",
   "id": "b960f24f",
   "metadata": {},
   "source": [
    "# Exploring Data on Prosperous Loans"
   ]
  },
  {
   "cell_type": "markdown",
   "id": "bffb62c3",
   "metadata": {},
   "source": [
    "# Preliminary analysis\n",
    "\n",
    "This dataset contains information on peer-to-peer lending facilitated by Prosper Lending Company"
   ]
  },
  {
   "cell_type": "code",
   "execution_count": 297,
   "id": "ebe91c2b",
   "metadata": {},
   "outputs": [],
   "source": [
    "# import all packages\n",
    "import pandas as pd\n",
    "import numpy as np\n",
    "import matplotlib.pyplot as plt\n",
    "import seaborn as sns\n",
    "\n",
    "%matplotlib inline"
   ]
  },
  {
   "cell_type": "code",
   "execution_count": 298,
   "id": "530f0c56",
   "metadata": {},
   "outputs": [],
   "source": [
    "# Reading data\n",
    "df_loan = pd.read_csv('prosperLoanData.csv')"
   ]
  },
  {
   "cell_type": "code",
   "execution_count": 299,
   "id": "f9468ee3",
   "metadata": {},
   "outputs": [
    {
     "data": {
      "text/html": [
       "<div>\n",
       "<style scoped>\n",
       "    .dataframe tbody tr th:only-of-type {\n",
       "        vertical-align: middle;\n",
       "    }\n",
       "\n",
       "    .dataframe tbody tr th {\n",
       "        vertical-align: top;\n",
       "    }\n",
       "\n",
       "    .dataframe thead th {\n",
       "        text-align: right;\n",
       "    }\n",
       "</style>\n",
       "<table border=\"1\" class=\"dataframe\">\n",
       "  <thead>\n",
       "    <tr style=\"text-align: right;\">\n",
       "      <th></th>\n",
       "      <th>ListingKey</th>\n",
       "      <th>ListingNumber</th>\n",
       "      <th>ListingCreationDate</th>\n",
       "      <th>CreditGrade</th>\n",
       "      <th>Term</th>\n",
       "      <th>LoanStatus</th>\n",
       "      <th>ClosedDate</th>\n",
       "      <th>BorrowerAPR</th>\n",
       "      <th>BorrowerRate</th>\n",
       "      <th>LenderYield</th>\n",
       "      <th>...</th>\n",
       "      <th>LP_ServiceFees</th>\n",
       "      <th>LP_CollectionFees</th>\n",
       "      <th>LP_GrossPrincipalLoss</th>\n",
       "      <th>LP_NetPrincipalLoss</th>\n",
       "      <th>LP_NonPrincipalRecoverypayments</th>\n",
       "      <th>PercentFunded</th>\n",
       "      <th>Recommendations</th>\n",
       "      <th>InvestmentFromFriendsCount</th>\n",
       "      <th>InvestmentFromFriendsAmount</th>\n",
       "      <th>Investors</th>\n",
       "    </tr>\n",
       "  </thead>\n",
       "  <tbody>\n",
       "    <tr>\n",
       "      <th>0</th>\n",
       "      <td>1021339766868145413AB3B</td>\n",
       "      <td>193129</td>\n",
       "      <td>2007-08-26 19:09:29.263000000</td>\n",
       "      <td>C</td>\n",
       "      <td>36</td>\n",
       "      <td>Completed</td>\n",
       "      <td>2009-08-14 00:00:00</td>\n",
       "      <td>0.16516</td>\n",
       "      <td>0.1580</td>\n",
       "      <td>0.1380</td>\n",
       "      <td>...</td>\n",
       "      <td>-133.18</td>\n",
       "      <td>0.0</td>\n",
       "      <td>0.0</td>\n",
       "      <td>0.0</td>\n",
       "      <td>0.0</td>\n",
       "      <td>1.0</td>\n",
       "      <td>0</td>\n",
       "      <td>0</td>\n",
       "      <td>0.0</td>\n",
       "      <td>258</td>\n",
       "    </tr>\n",
       "    <tr>\n",
       "      <th>1</th>\n",
       "      <td>10273602499503308B223C1</td>\n",
       "      <td>1209647</td>\n",
       "      <td>2014-02-27 08:28:07.900000000</td>\n",
       "      <td>NaN</td>\n",
       "      <td>36</td>\n",
       "      <td>Current</td>\n",
       "      <td>NaN</td>\n",
       "      <td>0.12016</td>\n",
       "      <td>0.0920</td>\n",
       "      <td>0.0820</td>\n",
       "      <td>...</td>\n",
       "      <td>0.00</td>\n",
       "      <td>0.0</td>\n",
       "      <td>0.0</td>\n",
       "      <td>0.0</td>\n",
       "      <td>0.0</td>\n",
       "      <td>1.0</td>\n",
       "      <td>0</td>\n",
       "      <td>0</td>\n",
       "      <td>0.0</td>\n",
       "      <td>1</td>\n",
       "    </tr>\n",
       "    <tr>\n",
       "      <th>2</th>\n",
       "      <td>0EE9337825851032864889A</td>\n",
       "      <td>81716</td>\n",
       "      <td>2007-01-05 15:00:47.090000000</td>\n",
       "      <td>HR</td>\n",
       "      <td>36</td>\n",
       "      <td>Completed</td>\n",
       "      <td>2009-12-17 00:00:00</td>\n",
       "      <td>0.28269</td>\n",
       "      <td>0.2750</td>\n",
       "      <td>0.2400</td>\n",
       "      <td>...</td>\n",
       "      <td>-24.20</td>\n",
       "      <td>0.0</td>\n",
       "      <td>0.0</td>\n",
       "      <td>0.0</td>\n",
       "      <td>0.0</td>\n",
       "      <td>1.0</td>\n",
       "      <td>0</td>\n",
       "      <td>0</td>\n",
       "      <td>0.0</td>\n",
       "      <td>41</td>\n",
       "    </tr>\n",
       "    <tr>\n",
       "      <th>3</th>\n",
       "      <td>0EF5356002482715299901A</td>\n",
       "      <td>658116</td>\n",
       "      <td>2012-10-22 11:02:35.010000000</td>\n",
       "      <td>NaN</td>\n",
       "      <td>36</td>\n",
       "      <td>Current</td>\n",
       "      <td>NaN</td>\n",
       "      <td>0.12528</td>\n",
       "      <td>0.0974</td>\n",
       "      <td>0.0874</td>\n",
       "      <td>...</td>\n",
       "      <td>-108.01</td>\n",
       "      <td>0.0</td>\n",
       "      <td>0.0</td>\n",
       "      <td>0.0</td>\n",
       "      <td>0.0</td>\n",
       "      <td>1.0</td>\n",
       "      <td>0</td>\n",
       "      <td>0</td>\n",
       "      <td>0.0</td>\n",
       "      <td>158</td>\n",
       "    </tr>\n",
       "    <tr>\n",
       "      <th>4</th>\n",
       "      <td>0F023589499656230C5E3E2</td>\n",
       "      <td>909464</td>\n",
       "      <td>2013-09-14 18:38:39.097000000</td>\n",
       "      <td>NaN</td>\n",
       "      <td>36</td>\n",
       "      <td>Current</td>\n",
       "      <td>NaN</td>\n",
       "      <td>0.24614</td>\n",
       "      <td>0.2085</td>\n",
       "      <td>0.1985</td>\n",
       "      <td>...</td>\n",
       "      <td>-60.27</td>\n",
       "      <td>0.0</td>\n",
       "      <td>0.0</td>\n",
       "      <td>0.0</td>\n",
       "      <td>0.0</td>\n",
       "      <td>1.0</td>\n",
       "      <td>0</td>\n",
       "      <td>0</td>\n",
       "      <td>0.0</td>\n",
       "      <td>20</td>\n",
       "    </tr>\n",
       "  </tbody>\n",
       "</table>\n",
       "<p>5 rows × 81 columns</p>\n",
       "</div>"
      ],
      "text/plain": [
       "                ListingKey  ListingNumber            ListingCreationDate  \\\n",
       "0  1021339766868145413AB3B         193129  2007-08-26 19:09:29.263000000   \n",
       "1  10273602499503308B223C1        1209647  2014-02-27 08:28:07.900000000   \n",
       "2  0EE9337825851032864889A          81716  2007-01-05 15:00:47.090000000   \n",
       "3  0EF5356002482715299901A         658116  2012-10-22 11:02:35.010000000   \n",
       "4  0F023589499656230C5E3E2         909464  2013-09-14 18:38:39.097000000   \n",
       "\n",
       "  CreditGrade  Term LoanStatus           ClosedDate  BorrowerAPR  \\\n",
       "0           C    36  Completed  2009-08-14 00:00:00      0.16516   \n",
       "1         NaN    36    Current                  NaN      0.12016   \n",
       "2          HR    36  Completed  2009-12-17 00:00:00      0.28269   \n",
       "3         NaN    36    Current                  NaN      0.12528   \n",
       "4         NaN    36    Current                  NaN      0.24614   \n",
       "\n",
       "   BorrowerRate  LenderYield  ...  LP_ServiceFees  LP_CollectionFees  \\\n",
       "0        0.1580       0.1380  ...         -133.18                0.0   \n",
       "1        0.0920       0.0820  ...            0.00                0.0   \n",
       "2        0.2750       0.2400  ...          -24.20                0.0   \n",
       "3        0.0974       0.0874  ...         -108.01                0.0   \n",
       "4        0.2085       0.1985  ...          -60.27                0.0   \n",
       "\n",
       "   LP_GrossPrincipalLoss  LP_NetPrincipalLoss LP_NonPrincipalRecoverypayments  \\\n",
       "0                    0.0                  0.0                             0.0   \n",
       "1                    0.0                  0.0                             0.0   \n",
       "2                    0.0                  0.0                             0.0   \n",
       "3                    0.0                  0.0                             0.0   \n",
       "4                    0.0                  0.0                             0.0   \n",
       "\n",
       "   PercentFunded  Recommendations InvestmentFromFriendsCount  \\\n",
       "0            1.0                0                          0   \n",
       "1            1.0                0                          0   \n",
       "2            1.0                0                          0   \n",
       "3            1.0                0                          0   \n",
       "4            1.0                0                          0   \n",
       "\n",
       "  InvestmentFromFriendsAmount Investors  \n",
       "0                         0.0       258  \n",
       "1                         0.0         1  \n",
       "2                         0.0        41  \n",
       "3                         0.0       158  \n",
       "4                         0.0        20  \n",
       "\n",
       "[5 rows x 81 columns]"
      ]
     },
     "execution_count": 299,
     "metadata": {},
     "output_type": "execute_result"
    }
   ],
   "source": [
    "# Reading the first 5 rows of data\n",
    "df_loan.head()"
   ]
  },
  {
   "cell_type": "code",
   "execution_count": 300,
   "id": "7d0c7814",
   "metadata": {},
   "outputs": [
    {
     "name": "stdout",
     "output_type": "stream",
     "text": [
      "<class 'pandas.core.frame.DataFrame'>\n",
      "RangeIndex: 113937 entries, 0 to 113936\n",
      "Data columns (total 81 columns):\n",
      " #   Column                               Non-Null Count   Dtype  \n",
      "---  ------                               --------------   -----  \n",
      " 0   ListingKey                           113937 non-null  object \n",
      " 1   ListingNumber                        113937 non-null  int64  \n",
      " 2   ListingCreationDate                  113937 non-null  object \n",
      " 3   CreditGrade                          28953 non-null   object \n",
      " 4   Term                                 113937 non-null  int64  \n",
      " 5   LoanStatus                           113937 non-null  object \n",
      " 6   ClosedDate                           55089 non-null   object \n",
      " 7   BorrowerAPR                          113912 non-null  float64\n",
      " 8   BorrowerRate                         113937 non-null  float64\n",
      " 9   LenderYield                          113937 non-null  float64\n",
      " 10  EstimatedEffectiveYield              84853 non-null   float64\n",
      " 11  EstimatedLoss                        84853 non-null   float64\n",
      " 12  EstimatedReturn                      84853 non-null   float64\n",
      " 13  ProsperRating (numeric)              84853 non-null   float64\n",
      " 14  ProsperRating (Alpha)                84853 non-null   object \n",
      " 15  ProsperScore                         84853 non-null   float64\n",
      " 16  ListingCategory (numeric)            113937 non-null  int64  \n",
      " 17  BorrowerState                        108422 non-null  object \n",
      " 18  Occupation                           110349 non-null  object \n",
      " 19  EmploymentStatus                     111682 non-null  object \n",
      " 20  EmploymentStatusDuration             106312 non-null  float64\n",
      " 21  IsBorrowerHomeowner                  113937 non-null  bool   \n",
      " 22  CurrentlyInGroup                     113937 non-null  bool   \n",
      " 23  GroupKey                             13341 non-null   object \n",
      " 24  DateCreditPulled                     113937 non-null  object \n",
      " 25  CreditScoreRangeLower                113346 non-null  float64\n",
      " 26  CreditScoreRangeUpper                113346 non-null  float64\n",
      " 27  FirstRecordedCreditLine              113240 non-null  object \n",
      " 28  CurrentCreditLines                   106333 non-null  float64\n",
      " 29  OpenCreditLines                      106333 non-null  float64\n",
      " 30  TotalCreditLinespast7years           113240 non-null  float64\n",
      " 31  OpenRevolvingAccounts                113937 non-null  int64  \n",
      " 32  OpenRevolvingMonthlyPayment          113937 non-null  float64\n",
      " 33  InquiriesLast6Months                 113240 non-null  float64\n",
      " 34  TotalInquiries                       112778 non-null  float64\n",
      " 35  CurrentDelinquencies                 113240 non-null  float64\n",
      " 36  AmountDelinquent                     106315 non-null  float64\n",
      " 37  DelinquenciesLast7Years              112947 non-null  float64\n",
      " 38  PublicRecordsLast10Years             113240 non-null  float64\n",
      " 39  PublicRecordsLast12Months            106333 non-null  float64\n",
      " 40  RevolvingCreditBalance               106333 non-null  float64\n",
      " 41  BankcardUtilization                  106333 non-null  float64\n",
      " 42  AvailableBankcardCredit              106393 non-null  float64\n",
      " 43  TotalTrades                          106393 non-null  float64\n",
      " 44  TradesNeverDelinquent (percentage)   106393 non-null  float64\n",
      " 45  TradesOpenedLast6Months              106393 non-null  float64\n",
      " 46  DebtToIncomeRatio                    105383 non-null  float64\n",
      " 47  IncomeRange                          113937 non-null  object \n",
      " 48  IncomeVerifiable                     113937 non-null  bool   \n",
      " 49  StatedMonthlyIncome                  113937 non-null  float64\n",
      " 50  LoanKey                              113937 non-null  object \n",
      " 51  TotalProsperLoans                    22085 non-null   float64\n",
      " 52  TotalProsperPaymentsBilled           22085 non-null   float64\n",
      " 53  OnTimeProsperPayments                22085 non-null   float64\n",
      " 54  ProsperPaymentsLessThanOneMonthLate  22085 non-null   float64\n",
      " 55  ProsperPaymentsOneMonthPlusLate      22085 non-null   float64\n",
      " 56  ProsperPrincipalBorrowed             22085 non-null   float64\n",
      " 57  ProsperPrincipalOutstanding          22085 non-null   float64\n",
      " 58  ScorexChangeAtTimeOfListing          18928 non-null   float64\n",
      " 59  LoanCurrentDaysDelinquent            113937 non-null  int64  \n",
      " 60  LoanFirstDefaultedCycleNumber        16952 non-null   float64\n",
      " 61  LoanMonthsSinceOrigination           113937 non-null  int64  \n",
      " 62  LoanNumber                           113937 non-null  int64  \n",
      " 63  LoanOriginalAmount                   113937 non-null  int64  \n",
      " 64  LoanOriginationDate                  113937 non-null  object \n",
      " 65  LoanOriginationQuarter               113937 non-null  object \n",
      " 66  MemberKey                            113937 non-null  object \n",
      " 67  MonthlyLoanPayment                   113937 non-null  float64\n",
      " 68  LP_CustomerPayments                  113937 non-null  float64\n",
      " 69  LP_CustomerPrincipalPayments         113937 non-null  float64\n",
      " 70  LP_InterestandFees                   113937 non-null  float64\n",
      " 71  LP_ServiceFees                       113937 non-null  float64\n",
      " 72  LP_CollectionFees                    113937 non-null  float64\n",
      " 73  LP_GrossPrincipalLoss                113937 non-null  float64\n",
      " 74  LP_NetPrincipalLoss                  113937 non-null  float64\n",
      " 75  LP_NonPrincipalRecoverypayments      113937 non-null  float64\n",
      " 76  PercentFunded                        113937 non-null  float64\n",
      " 77  Recommendations                      113937 non-null  int64  \n",
      " 78  InvestmentFromFriendsCount           113937 non-null  int64  \n",
      " 79  InvestmentFromFriendsAmount          113937 non-null  float64\n",
      " 80  Investors                            113937 non-null  int64  \n",
      "dtypes: bool(3), float64(50), int64(11), object(17)\n",
      "memory usage: 68.1+ MB\n"
     ]
    }
   ],
   "source": [
    "# Display of data structure\n",
    "df_loan.info()"
   ]
  },
  {
   "cell_type": "code",
   "execution_count": 301,
   "id": "8b751ed2",
   "metadata": {},
   "outputs": [
    {
     "data": {
      "text/html": [
       "<div>\n",
       "<style scoped>\n",
       "    .dataframe tbody tr th:only-of-type {\n",
       "        vertical-align: middle;\n",
       "    }\n",
       "\n",
       "    .dataframe tbody tr th {\n",
       "        vertical-align: top;\n",
       "    }\n",
       "\n",
       "    .dataframe thead th {\n",
       "        text-align: right;\n",
       "    }\n",
       "</style>\n",
       "<table border=\"1\" class=\"dataframe\">\n",
       "  <thead>\n",
       "    <tr style=\"text-align: right;\">\n",
       "      <th></th>\n",
       "      <th>ListingNumber</th>\n",
       "      <th>Term</th>\n",
       "      <th>BorrowerAPR</th>\n",
       "      <th>BorrowerRate</th>\n",
       "      <th>LenderYield</th>\n",
       "      <th>EstimatedEffectiveYield</th>\n",
       "      <th>EstimatedLoss</th>\n",
       "      <th>EstimatedReturn</th>\n",
       "      <th>ProsperRating (numeric)</th>\n",
       "      <th>ProsperScore</th>\n",
       "      <th>...</th>\n",
       "      <th>LP_ServiceFees</th>\n",
       "      <th>LP_CollectionFees</th>\n",
       "      <th>LP_GrossPrincipalLoss</th>\n",
       "      <th>LP_NetPrincipalLoss</th>\n",
       "      <th>LP_NonPrincipalRecoverypayments</th>\n",
       "      <th>PercentFunded</th>\n",
       "      <th>Recommendations</th>\n",
       "      <th>InvestmentFromFriendsCount</th>\n",
       "      <th>InvestmentFromFriendsAmount</th>\n",
       "      <th>Investors</th>\n",
       "    </tr>\n",
       "  </thead>\n",
       "  <tbody>\n",
       "    <tr>\n",
       "      <th>count</th>\n",
       "      <td>1.139370e+05</td>\n",
       "      <td>113937.000000</td>\n",
       "      <td>113912.000000</td>\n",
       "      <td>113937.000000</td>\n",
       "      <td>113937.000000</td>\n",
       "      <td>84853.000000</td>\n",
       "      <td>84853.000000</td>\n",
       "      <td>84853.000000</td>\n",
       "      <td>84853.000000</td>\n",
       "      <td>84853.000000</td>\n",
       "      <td>...</td>\n",
       "      <td>113937.000000</td>\n",
       "      <td>113937.000000</td>\n",
       "      <td>113937.000000</td>\n",
       "      <td>113937.000000</td>\n",
       "      <td>113937.000000</td>\n",
       "      <td>113937.000000</td>\n",
       "      <td>113937.000000</td>\n",
       "      <td>113937.000000</td>\n",
       "      <td>113937.000000</td>\n",
       "      <td>113937.000000</td>\n",
       "    </tr>\n",
       "    <tr>\n",
       "      <th>mean</th>\n",
       "      <td>6.278857e+05</td>\n",
       "      <td>40.830248</td>\n",
       "      <td>0.218828</td>\n",
       "      <td>0.192764</td>\n",
       "      <td>0.182701</td>\n",
       "      <td>0.168661</td>\n",
       "      <td>0.080306</td>\n",
       "      <td>0.096068</td>\n",
       "      <td>4.072243</td>\n",
       "      <td>5.950067</td>\n",
       "      <td>...</td>\n",
       "      <td>-54.725641</td>\n",
       "      <td>-14.242698</td>\n",
       "      <td>700.446342</td>\n",
       "      <td>681.420499</td>\n",
       "      <td>25.142686</td>\n",
       "      <td>0.998584</td>\n",
       "      <td>0.048027</td>\n",
       "      <td>0.023460</td>\n",
       "      <td>16.550751</td>\n",
       "      <td>80.475228</td>\n",
       "    </tr>\n",
       "    <tr>\n",
       "      <th>std</th>\n",
       "      <td>3.280762e+05</td>\n",
       "      <td>10.436212</td>\n",
       "      <td>0.080364</td>\n",
       "      <td>0.074818</td>\n",
       "      <td>0.074516</td>\n",
       "      <td>0.068467</td>\n",
       "      <td>0.046764</td>\n",
       "      <td>0.030403</td>\n",
       "      <td>1.673227</td>\n",
       "      <td>2.376501</td>\n",
       "      <td>...</td>\n",
       "      <td>60.675425</td>\n",
       "      <td>109.232758</td>\n",
       "      <td>2388.513831</td>\n",
       "      <td>2357.167068</td>\n",
       "      <td>275.657937</td>\n",
       "      <td>0.017919</td>\n",
       "      <td>0.332353</td>\n",
       "      <td>0.232412</td>\n",
       "      <td>294.545422</td>\n",
       "      <td>103.239020</td>\n",
       "    </tr>\n",
       "    <tr>\n",
       "      <th>min</th>\n",
       "      <td>4.000000e+00</td>\n",
       "      <td>12.000000</td>\n",
       "      <td>0.006530</td>\n",
       "      <td>0.000000</td>\n",
       "      <td>-0.010000</td>\n",
       "      <td>-0.182700</td>\n",
       "      <td>0.004900</td>\n",
       "      <td>-0.182700</td>\n",
       "      <td>1.000000</td>\n",
       "      <td>1.000000</td>\n",
       "      <td>...</td>\n",
       "      <td>-664.870000</td>\n",
       "      <td>-9274.750000</td>\n",
       "      <td>-94.200000</td>\n",
       "      <td>-954.550000</td>\n",
       "      <td>0.000000</td>\n",
       "      <td>0.700000</td>\n",
       "      <td>0.000000</td>\n",
       "      <td>0.000000</td>\n",
       "      <td>0.000000</td>\n",
       "      <td>1.000000</td>\n",
       "    </tr>\n",
       "    <tr>\n",
       "      <th>25%</th>\n",
       "      <td>4.009190e+05</td>\n",
       "      <td>36.000000</td>\n",
       "      <td>0.156290</td>\n",
       "      <td>0.134000</td>\n",
       "      <td>0.124200</td>\n",
       "      <td>0.115670</td>\n",
       "      <td>0.042400</td>\n",
       "      <td>0.074080</td>\n",
       "      <td>3.000000</td>\n",
       "      <td>4.000000</td>\n",
       "      <td>...</td>\n",
       "      <td>-73.180000</td>\n",
       "      <td>0.000000</td>\n",
       "      <td>0.000000</td>\n",
       "      <td>0.000000</td>\n",
       "      <td>0.000000</td>\n",
       "      <td>1.000000</td>\n",
       "      <td>0.000000</td>\n",
       "      <td>0.000000</td>\n",
       "      <td>0.000000</td>\n",
       "      <td>2.000000</td>\n",
       "    </tr>\n",
       "    <tr>\n",
       "      <th>50%</th>\n",
       "      <td>6.005540e+05</td>\n",
       "      <td>36.000000</td>\n",
       "      <td>0.209760</td>\n",
       "      <td>0.184000</td>\n",
       "      <td>0.173000</td>\n",
       "      <td>0.161500</td>\n",
       "      <td>0.072400</td>\n",
       "      <td>0.091700</td>\n",
       "      <td>4.000000</td>\n",
       "      <td>6.000000</td>\n",
       "      <td>...</td>\n",
       "      <td>-34.440000</td>\n",
       "      <td>0.000000</td>\n",
       "      <td>0.000000</td>\n",
       "      <td>0.000000</td>\n",
       "      <td>0.000000</td>\n",
       "      <td>1.000000</td>\n",
       "      <td>0.000000</td>\n",
       "      <td>0.000000</td>\n",
       "      <td>0.000000</td>\n",
       "      <td>44.000000</td>\n",
       "    </tr>\n",
       "    <tr>\n",
       "      <th>75%</th>\n",
       "      <td>8.926340e+05</td>\n",
       "      <td>36.000000</td>\n",
       "      <td>0.283810</td>\n",
       "      <td>0.250000</td>\n",
       "      <td>0.240000</td>\n",
       "      <td>0.224300</td>\n",
       "      <td>0.112000</td>\n",
       "      <td>0.116600</td>\n",
       "      <td>5.000000</td>\n",
       "      <td>8.000000</td>\n",
       "      <td>...</td>\n",
       "      <td>-13.920000</td>\n",
       "      <td>0.000000</td>\n",
       "      <td>0.000000</td>\n",
       "      <td>0.000000</td>\n",
       "      <td>0.000000</td>\n",
       "      <td>1.000000</td>\n",
       "      <td>0.000000</td>\n",
       "      <td>0.000000</td>\n",
       "      <td>0.000000</td>\n",
       "      <td>115.000000</td>\n",
       "    </tr>\n",
       "    <tr>\n",
       "      <th>max</th>\n",
       "      <td>1.255725e+06</td>\n",
       "      <td>60.000000</td>\n",
       "      <td>0.512290</td>\n",
       "      <td>0.497500</td>\n",
       "      <td>0.492500</td>\n",
       "      <td>0.319900</td>\n",
       "      <td>0.366000</td>\n",
       "      <td>0.283700</td>\n",
       "      <td>7.000000</td>\n",
       "      <td>11.000000</td>\n",
       "      <td>...</td>\n",
       "      <td>32.060000</td>\n",
       "      <td>0.000000</td>\n",
       "      <td>25000.000000</td>\n",
       "      <td>25000.000000</td>\n",
       "      <td>21117.900000</td>\n",
       "      <td>1.012500</td>\n",
       "      <td>39.000000</td>\n",
       "      <td>33.000000</td>\n",
       "      <td>25000.000000</td>\n",
       "      <td>1189.000000</td>\n",
       "    </tr>\n",
       "  </tbody>\n",
       "</table>\n",
       "<p>8 rows × 61 columns</p>\n",
       "</div>"
      ],
      "text/plain": [
       "       ListingNumber           Term    BorrowerAPR   BorrowerRate  \\\n",
       "count   1.139370e+05  113937.000000  113912.000000  113937.000000   \n",
       "mean    6.278857e+05      40.830248       0.218828       0.192764   \n",
       "std     3.280762e+05      10.436212       0.080364       0.074818   \n",
       "min     4.000000e+00      12.000000       0.006530       0.000000   \n",
       "25%     4.009190e+05      36.000000       0.156290       0.134000   \n",
       "50%     6.005540e+05      36.000000       0.209760       0.184000   \n",
       "75%     8.926340e+05      36.000000       0.283810       0.250000   \n",
       "max     1.255725e+06      60.000000       0.512290       0.497500   \n",
       "\n",
       "         LenderYield  EstimatedEffectiveYield  EstimatedLoss  EstimatedReturn  \\\n",
       "count  113937.000000             84853.000000   84853.000000     84853.000000   \n",
       "mean        0.182701                 0.168661       0.080306         0.096068   \n",
       "std         0.074516                 0.068467       0.046764         0.030403   \n",
       "min        -0.010000                -0.182700       0.004900        -0.182700   \n",
       "25%         0.124200                 0.115670       0.042400         0.074080   \n",
       "50%         0.173000                 0.161500       0.072400         0.091700   \n",
       "75%         0.240000                 0.224300       0.112000         0.116600   \n",
       "max         0.492500                 0.319900       0.366000         0.283700   \n",
       "\n",
       "       ProsperRating (numeric)  ProsperScore  ...  LP_ServiceFees  \\\n",
       "count             84853.000000  84853.000000  ...   113937.000000   \n",
       "mean                  4.072243      5.950067  ...      -54.725641   \n",
       "std                   1.673227      2.376501  ...       60.675425   \n",
       "min                   1.000000      1.000000  ...     -664.870000   \n",
       "25%                   3.000000      4.000000  ...      -73.180000   \n",
       "50%                   4.000000      6.000000  ...      -34.440000   \n",
       "75%                   5.000000      8.000000  ...      -13.920000   \n",
       "max                   7.000000     11.000000  ...       32.060000   \n",
       "\n",
       "       LP_CollectionFees  LP_GrossPrincipalLoss  LP_NetPrincipalLoss  \\\n",
       "count      113937.000000          113937.000000        113937.000000   \n",
       "mean          -14.242698             700.446342           681.420499   \n",
       "std           109.232758            2388.513831          2357.167068   \n",
       "min         -9274.750000             -94.200000          -954.550000   \n",
       "25%             0.000000               0.000000             0.000000   \n",
       "50%             0.000000               0.000000             0.000000   \n",
       "75%             0.000000               0.000000             0.000000   \n",
       "max             0.000000           25000.000000         25000.000000   \n",
       "\n",
       "       LP_NonPrincipalRecoverypayments  PercentFunded  Recommendations  \\\n",
       "count                    113937.000000  113937.000000    113937.000000   \n",
       "mean                         25.142686       0.998584         0.048027   \n",
       "std                         275.657937       0.017919         0.332353   \n",
       "min                           0.000000       0.700000         0.000000   \n",
       "25%                           0.000000       1.000000         0.000000   \n",
       "50%                           0.000000       1.000000         0.000000   \n",
       "75%                           0.000000       1.000000         0.000000   \n",
       "max                       21117.900000       1.012500        39.000000   \n",
       "\n",
       "       InvestmentFromFriendsCount  InvestmentFromFriendsAmount      Investors  \n",
       "count               113937.000000                113937.000000  113937.000000  \n",
       "mean                     0.023460                    16.550751      80.475228  \n",
       "std                      0.232412                   294.545422     103.239020  \n",
       "min                      0.000000                     0.000000       1.000000  \n",
       "25%                      0.000000                     0.000000       2.000000  \n",
       "50%                      0.000000                     0.000000      44.000000  \n",
       "75%                      0.000000                     0.000000     115.000000  \n",
       "max                     33.000000                 25000.000000    1189.000000  \n",
       "\n",
       "[8 rows x 61 columns]"
      ]
     },
     "execution_count": 301,
     "metadata": {},
     "output_type": "execute_result"
    }
   ],
   "source": [
    "# Viewing Descriptive Dataset Statistics\n",
    "df_loan.describe()"
   ]
  },
  {
   "cell_type": "markdown",
   "id": "b55ffbec",
   "metadata": {},
   "source": [
    "Note that this dataset contains 81 columns. To do this analysis, I took the following columns:"
   ]
  },
  {
   "cell_type": "code",
   "execution_count": 302,
   "id": "af43b988",
   "metadata": {},
   "outputs": [],
   "source": [
    "# List of output columns for analysis\n",
    "columns_output =  [\n",
    "    'Term', 'LoanStatus', 'BorrowerRate', 'ProsperRating (Alpha)', 'ListingCategory (numeric)', 'EmploymentStatus',\n",
    "    'DelinquenciesLast7Years', 'StatedMonthlyIncome', 'TotalProsperLoans', 'LoanOriginalAmount',\n",
    "    'LoanOriginationDate', 'Recommendations', 'Investors'\n",
    "]"
   ]
  },
  {
   "cell_type": "code",
   "execution_count": 303,
   "id": "15144369",
   "metadata": {},
   "outputs": [],
   "source": [
    "# New Dataset with columns to use for analysis\n",
    "df_output = df_loan[columns_output]"
   ]
  },
  {
   "cell_type": "code",
   "execution_count": 304,
   "id": "5ae768a5",
   "metadata": {
    "scrolled": true
   },
   "outputs": [
    {
     "data": {
      "text/html": [
       "<div>\n",
       "<style scoped>\n",
       "    .dataframe tbody tr th:only-of-type {\n",
       "        vertical-align: middle;\n",
       "    }\n",
       "\n",
       "    .dataframe tbody tr th {\n",
       "        vertical-align: top;\n",
       "    }\n",
       "\n",
       "    .dataframe thead th {\n",
       "        text-align: right;\n",
       "    }\n",
       "</style>\n",
       "<table border=\"1\" class=\"dataframe\">\n",
       "  <thead>\n",
       "    <tr style=\"text-align: right;\">\n",
       "      <th></th>\n",
       "      <th>Term</th>\n",
       "      <th>LoanStatus</th>\n",
       "      <th>BorrowerRate</th>\n",
       "      <th>ProsperRating (Alpha)</th>\n",
       "      <th>ListingCategory (numeric)</th>\n",
       "      <th>EmploymentStatus</th>\n",
       "      <th>DelinquenciesLast7Years</th>\n",
       "      <th>StatedMonthlyIncome</th>\n",
       "      <th>TotalProsperLoans</th>\n",
       "      <th>LoanOriginalAmount</th>\n",
       "      <th>LoanOriginationDate</th>\n",
       "      <th>Recommendations</th>\n",
       "      <th>Investors</th>\n",
       "    </tr>\n",
       "  </thead>\n",
       "  <tbody>\n",
       "    <tr>\n",
       "      <th>20947</th>\n",
       "      <td>60</td>\n",
       "      <td>Current</td>\n",
       "      <td>0.3032</td>\n",
       "      <td>E</td>\n",
       "      <td>1</td>\n",
       "      <td>Employed</td>\n",
       "      <td>0.0</td>\n",
       "      <td>3000.000000</td>\n",
       "      <td>NaN</td>\n",
       "      <td>4000</td>\n",
       "      <td>2013-07-29 00:00:00</td>\n",
       "      <td>0</td>\n",
       "      <td>1</td>\n",
       "    </tr>\n",
       "    <tr>\n",
       "      <th>26137</th>\n",
       "      <td>60</td>\n",
       "      <td>Current</td>\n",
       "      <td>0.1400</td>\n",
       "      <td>B</td>\n",
       "      <td>1</td>\n",
       "      <td>Employed</td>\n",
       "      <td>0.0</td>\n",
       "      <td>4916.666667</td>\n",
       "      <td>NaN</td>\n",
       "      <td>15000</td>\n",
       "      <td>2013-12-09 00:00:00</td>\n",
       "      <td>0</td>\n",
       "      <td>69</td>\n",
       "    </tr>\n",
       "    <tr>\n",
       "      <th>1888</th>\n",
       "      <td>36</td>\n",
       "      <td>Completed</td>\n",
       "      <td>0.2324</td>\n",
       "      <td>D</td>\n",
       "      <td>15</td>\n",
       "      <td>Employed</td>\n",
       "      <td>0.0</td>\n",
       "      <td>2500.000000</td>\n",
       "      <td>NaN</td>\n",
       "      <td>12000</td>\n",
       "      <td>2012-09-06 00:00:00</td>\n",
       "      <td>0</td>\n",
       "      <td>78</td>\n",
       "    </tr>\n",
       "    <tr>\n",
       "      <th>25067</th>\n",
       "      <td>12</td>\n",
       "      <td>Completed</td>\n",
       "      <td>0.1900</td>\n",
       "      <td>D</td>\n",
       "      <td>6</td>\n",
       "      <td>Employed</td>\n",
       "      <td>11.0</td>\n",
       "      <td>6500.000000</td>\n",
       "      <td>1.0</td>\n",
       "      <td>2500</td>\n",
       "      <td>2012-01-12 00:00:00</td>\n",
       "      <td>0</td>\n",
       "      <td>1</td>\n",
       "    </tr>\n",
       "    <tr>\n",
       "      <th>103889</th>\n",
       "      <td>36</td>\n",
       "      <td>Current</td>\n",
       "      <td>0.2199</td>\n",
       "      <td>D</td>\n",
       "      <td>2</td>\n",
       "      <td>Employed</td>\n",
       "      <td>5.0</td>\n",
       "      <td>7666.666667</td>\n",
       "      <td>1.0</td>\n",
       "      <td>5000</td>\n",
       "      <td>2012-12-27 00:00:00</td>\n",
       "      <td>0</td>\n",
       "      <td>75</td>\n",
       "    </tr>\n",
       "    <tr>\n",
       "      <th>19197</th>\n",
       "      <td>36</td>\n",
       "      <td>Completed</td>\n",
       "      <td>0.1200</td>\n",
       "      <td>NaN</td>\n",
       "      <td>1</td>\n",
       "      <td>Full-time</td>\n",
       "      <td>0.0</td>\n",
       "      <td>10416.666667</td>\n",
       "      <td>NaN</td>\n",
       "      <td>25000</td>\n",
       "      <td>2008-07-30 00:00:00</td>\n",
       "      <td>0</td>\n",
       "      <td>538</td>\n",
       "    </tr>\n",
       "    <tr>\n",
       "      <th>56160</th>\n",
       "      <td>36</td>\n",
       "      <td>Completed</td>\n",
       "      <td>0.2750</td>\n",
       "      <td>D</td>\n",
       "      <td>7</td>\n",
       "      <td>Employed</td>\n",
       "      <td>0.0</td>\n",
       "      <td>8333.333333</td>\n",
       "      <td>NaN</td>\n",
       "      <td>4000</td>\n",
       "      <td>2010-08-30 00:00:00</td>\n",
       "      <td>0</td>\n",
       "      <td>151</td>\n",
       "    </tr>\n",
       "    <tr>\n",
       "      <th>99647</th>\n",
       "      <td>36</td>\n",
       "      <td>Current</td>\n",
       "      <td>0.0990</td>\n",
       "      <td>A</td>\n",
       "      <td>1</td>\n",
       "      <td>Employed</td>\n",
       "      <td>0.0</td>\n",
       "      <td>4250.000000</td>\n",
       "      <td>NaN</td>\n",
       "      <td>13500</td>\n",
       "      <td>2013-11-13 00:00:00</td>\n",
       "      <td>0</td>\n",
       "      <td>1</td>\n",
       "    </tr>\n",
       "    <tr>\n",
       "      <th>90594</th>\n",
       "      <td>36</td>\n",
       "      <td>Chargedoff</td>\n",
       "      <td>0.3177</td>\n",
       "      <td>HR</td>\n",
       "      <td>19</td>\n",
       "      <td>Not employed</td>\n",
       "      <td>0.0</td>\n",
       "      <td>0.000000</td>\n",
       "      <td>NaN</td>\n",
       "      <td>3222</td>\n",
       "      <td>2012-11-26 00:00:00</td>\n",
       "      <td>0</td>\n",
       "      <td>40</td>\n",
       "    </tr>\n",
       "    <tr>\n",
       "      <th>74926</th>\n",
       "      <td>36</td>\n",
       "      <td>Completed</td>\n",
       "      <td>0.0885</td>\n",
       "      <td>NaN</td>\n",
       "      <td>0</td>\n",
       "      <td>Part-time</td>\n",
       "      <td>0.0</td>\n",
       "      <td>2916.666667</td>\n",
       "      <td>NaN</td>\n",
       "      <td>10000</td>\n",
       "      <td>2007-03-15 00:00:00</td>\n",
       "      <td>0</td>\n",
       "      <td>337</td>\n",
       "    </tr>\n",
       "  </tbody>\n",
       "</table>\n",
       "</div>"
      ],
      "text/plain": [
       "        Term  LoanStatus  BorrowerRate ProsperRating (Alpha)  \\\n",
       "20947     60     Current        0.3032                     E   \n",
       "26137     60     Current        0.1400                     B   \n",
       "1888      36   Completed        0.2324                     D   \n",
       "25067     12   Completed        0.1900                     D   \n",
       "103889    36     Current        0.2199                     D   \n",
       "19197     36   Completed        0.1200                   NaN   \n",
       "56160     36   Completed        0.2750                     D   \n",
       "99647     36     Current        0.0990                     A   \n",
       "90594     36  Chargedoff        0.3177                    HR   \n",
       "74926     36   Completed        0.0885                   NaN   \n",
       "\n",
       "        ListingCategory (numeric) EmploymentStatus  DelinquenciesLast7Years  \\\n",
       "20947                           1         Employed                      0.0   \n",
       "26137                           1         Employed                      0.0   \n",
       "1888                           15         Employed                      0.0   \n",
       "25067                           6         Employed                     11.0   \n",
       "103889                          2         Employed                      5.0   \n",
       "19197                           1        Full-time                      0.0   \n",
       "56160                           7         Employed                      0.0   \n",
       "99647                           1         Employed                      0.0   \n",
       "90594                          19     Not employed                      0.0   \n",
       "74926                           0        Part-time                      0.0   \n",
       "\n",
       "        StatedMonthlyIncome  TotalProsperLoans  LoanOriginalAmount  \\\n",
       "20947           3000.000000                NaN                4000   \n",
       "26137           4916.666667                NaN               15000   \n",
       "1888            2500.000000                NaN               12000   \n",
       "25067           6500.000000                1.0                2500   \n",
       "103889          7666.666667                1.0                5000   \n",
       "19197          10416.666667                NaN               25000   \n",
       "56160           8333.333333                NaN                4000   \n",
       "99647           4250.000000                NaN               13500   \n",
       "90594              0.000000                NaN                3222   \n",
       "74926           2916.666667                NaN               10000   \n",
       "\n",
       "        LoanOriginationDate  Recommendations  Investors  \n",
       "20947   2013-07-29 00:00:00                0          1  \n",
       "26137   2013-12-09 00:00:00                0         69  \n",
       "1888    2012-09-06 00:00:00                0         78  \n",
       "25067   2012-01-12 00:00:00                0          1  \n",
       "103889  2012-12-27 00:00:00                0         75  \n",
       "19197   2008-07-30 00:00:00                0        538  \n",
       "56160   2010-08-30 00:00:00                0        151  \n",
       "99647   2013-11-13 00:00:00                0          1  \n",
       "90594   2012-11-26 00:00:00                0         40  \n",
       "74926   2007-03-15 00:00:00                0        337  "
      ]
     },
     "execution_count": 304,
     "metadata": {},
     "output_type": "execute_result"
    }
   ],
   "source": [
    "# Displaying a sample of 10 rows of the dataset to analyze\n",
    "df_output.sample(10)"
   ]
  },
  {
   "cell_type": "code",
   "execution_count": 305,
   "id": "5ccdb2e9",
   "metadata": {},
   "outputs": [
    {
     "name": "stdout",
     "output_type": "stream",
     "text": [
      "<class 'pandas.core.frame.DataFrame'>\n",
      "RangeIndex: 113937 entries, 0 to 113936\n",
      "Data columns (total 13 columns):\n",
      " #   Column                     Non-Null Count   Dtype  \n",
      "---  ------                     --------------   -----  \n",
      " 0   Term                       113937 non-null  int64  \n",
      " 1   LoanStatus                 113937 non-null  object \n",
      " 2   BorrowerRate               113937 non-null  float64\n",
      " 3   ProsperRating (Alpha)      84853 non-null   object \n",
      " 4   ListingCategory (numeric)  113937 non-null  int64  \n",
      " 5   EmploymentStatus           111682 non-null  object \n",
      " 6   DelinquenciesLast7Years    112947 non-null  float64\n",
      " 7   StatedMonthlyIncome        113937 non-null  float64\n",
      " 8   TotalProsperLoans          22085 non-null   float64\n",
      " 9   LoanOriginalAmount         113937 non-null  int64  \n",
      " 10  LoanOriginationDate        113937 non-null  object \n",
      " 11  Recommendations            113937 non-null  int64  \n",
      " 12  Investors                  113937 non-null  int64  \n",
      "dtypes: float64(4), int64(5), object(4)\n",
      "memory usage: 11.3+ MB\n"
     ]
    }
   ],
   "source": [
    "# Displaying the structure of the dataset for analysis\n",
    "df_output.info()"
   ]
  },
  {
   "cell_type": "code",
   "execution_count": 306,
   "id": "a3aa015c",
   "metadata": {},
   "outputs": [
    {
     "data": {
      "text/html": [
       "<div>\n",
       "<style scoped>\n",
       "    .dataframe tbody tr th:only-of-type {\n",
       "        vertical-align: middle;\n",
       "    }\n",
       "\n",
       "    .dataframe tbody tr th {\n",
       "        vertical-align: top;\n",
       "    }\n",
       "\n",
       "    .dataframe thead th {\n",
       "        text-align: right;\n",
       "    }\n",
       "</style>\n",
       "<table border=\"1\" class=\"dataframe\">\n",
       "  <thead>\n",
       "    <tr style=\"text-align: right;\">\n",
       "      <th></th>\n",
       "      <th>Term</th>\n",
       "      <th>BorrowerRate</th>\n",
       "      <th>ListingCategory (numeric)</th>\n",
       "      <th>DelinquenciesLast7Years</th>\n",
       "      <th>StatedMonthlyIncome</th>\n",
       "      <th>TotalProsperLoans</th>\n",
       "      <th>LoanOriginalAmount</th>\n",
       "      <th>Recommendations</th>\n",
       "      <th>Investors</th>\n",
       "    </tr>\n",
       "  </thead>\n",
       "  <tbody>\n",
       "    <tr>\n",
       "      <th>count</th>\n",
       "      <td>113937.000000</td>\n",
       "      <td>113937.000000</td>\n",
       "      <td>113937.000000</td>\n",
       "      <td>112947.000000</td>\n",
       "      <td>1.139370e+05</td>\n",
       "      <td>22085.000000</td>\n",
       "      <td>113937.00000</td>\n",
       "      <td>113937.000000</td>\n",
       "      <td>113937.000000</td>\n",
       "    </tr>\n",
       "    <tr>\n",
       "      <th>mean</th>\n",
       "      <td>40.830248</td>\n",
       "      <td>0.192764</td>\n",
       "      <td>2.774209</td>\n",
       "      <td>4.154984</td>\n",
       "      <td>5.608026e+03</td>\n",
       "      <td>1.421100</td>\n",
       "      <td>8337.01385</td>\n",
       "      <td>0.048027</td>\n",
       "      <td>80.475228</td>\n",
       "    </tr>\n",
       "    <tr>\n",
       "      <th>std</th>\n",
       "      <td>10.436212</td>\n",
       "      <td>0.074818</td>\n",
       "      <td>3.996797</td>\n",
       "      <td>10.160216</td>\n",
       "      <td>7.478497e+03</td>\n",
       "      <td>0.764042</td>\n",
       "      <td>6245.80058</td>\n",
       "      <td>0.332353</td>\n",
       "      <td>103.239020</td>\n",
       "    </tr>\n",
       "    <tr>\n",
       "      <th>min</th>\n",
       "      <td>12.000000</td>\n",
       "      <td>0.000000</td>\n",
       "      <td>0.000000</td>\n",
       "      <td>0.000000</td>\n",
       "      <td>0.000000e+00</td>\n",
       "      <td>0.000000</td>\n",
       "      <td>1000.00000</td>\n",
       "      <td>0.000000</td>\n",
       "      <td>1.000000</td>\n",
       "    </tr>\n",
       "    <tr>\n",
       "      <th>25%</th>\n",
       "      <td>36.000000</td>\n",
       "      <td>0.134000</td>\n",
       "      <td>1.000000</td>\n",
       "      <td>0.000000</td>\n",
       "      <td>3.200333e+03</td>\n",
       "      <td>1.000000</td>\n",
       "      <td>4000.00000</td>\n",
       "      <td>0.000000</td>\n",
       "      <td>2.000000</td>\n",
       "    </tr>\n",
       "    <tr>\n",
       "      <th>50%</th>\n",
       "      <td>36.000000</td>\n",
       "      <td>0.184000</td>\n",
       "      <td>1.000000</td>\n",
       "      <td>0.000000</td>\n",
       "      <td>4.666667e+03</td>\n",
       "      <td>1.000000</td>\n",
       "      <td>6500.00000</td>\n",
       "      <td>0.000000</td>\n",
       "      <td>44.000000</td>\n",
       "    </tr>\n",
       "    <tr>\n",
       "      <th>75%</th>\n",
       "      <td>36.000000</td>\n",
       "      <td>0.250000</td>\n",
       "      <td>3.000000</td>\n",
       "      <td>3.000000</td>\n",
       "      <td>6.825000e+03</td>\n",
       "      <td>2.000000</td>\n",
       "      <td>12000.00000</td>\n",
       "      <td>0.000000</td>\n",
       "      <td>115.000000</td>\n",
       "    </tr>\n",
       "    <tr>\n",
       "      <th>max</th>\n",
       "      <td>60.000000</td>\n",
       "      <td>0.497500</td>\n",
       "      <td>20.000000</td>\n",
       "      <td>99.000000</td>\n",
       "      <td>1.750003e+06</td>\n",
       "      <td>8.000000</td>\n",
       "      <td>35000.00000</td>\n",
       "      <td>39.000000</td>\n",
       "      <td>1189.000000</td>\n",
       "    </tr>\n",
       "  </tbody>\n",
       "</table>\n",
       "</div>"
      ],
      "text/plain": [
       "                Term   BorrowerRate  ListingCategory (numeric)  \\\n",
       "count  113937.000000  113937.000000              113937.000000   \n",
       "mean       40.830248       0.192764                   2.774209   \n",
       "std        10.436212       0.074818                   3.996797   \n",
       "min        12.000000       0.000000                   0.000000   \n",
       "25%        36.000000       0.134000                   1.000000   \n",
       "50%        36.000000       0.184000                   1.000000   \n",
       "75%        36.000000       0.250000                   3.000000   \n",
       "max        60.000000       0.497500                  20.000000   \n",
       "\n",
       "       DelinquenciesLast7Years  StatedMonthlyIncome  TotalProsperLoans  \\\n",
       "count            112947.000000         1.139370e+05       22085.000000   \n",
       "mean                  4.154984         5.608026e+03           1.421100   \n",
       "std                  10.160216         7.478497e+03           0.764042   \n",
       "min                   0.000000         0.000000e+00           0.000000   \n",
       "25%                   0.000000         3.200333e+03           1.000000   \n",
       "50%                   0.000000         4.666667e+03           1.000000   \n",
       "75%                   3.000000         6.825000e+03           2.000000   \n",
       "max                  99.000000         1.750003e+06           8.000000   \n",
       "\n",
       "       LoanOriginalAmount  Recommendations      Investors  \n",
       "count        113937.00000    113937.000000  113937.000000  \n",
       "mean           8337.01385         0.048027      80.475228  \n",
       "std            6245.80058         0.332353     103.239020  \n",
       "min            1000.00000         0.000000       1.000000  \n",
       "25%            4000.00000         0.000000       2.000000  \n",
       "50%            6500.00000         0.000000      44.000000  \n",
       "75%           12000.00000         0.000000     115.000000  \n",
       "max           35000.00000        39.000000    1189.000000  "
      ]
     },
     "execution_count": 306,
     "metadata": {},
     "output_type": "execute_result"
    }
   ],
   "source": [
    "# Displaying descriptive statistics of the dataset for analysis\n",
    "df_output.describe()"
   ]
  },
  {
   "cell_type": "markdown",
   "id": "5bea4b51",
   "metadata": {},
   "source": [
    "Since Prosper has only been using its own Prosper Rating since 2009, we have a lot of missing values ​​in the ProsperRating column. Let's remove its missing values:"
   ]
  },
  {
   "cell_type": "code",
   "execution_count": 307,
   "id": "97a22021",
   "metadata": {},
   "outputs": [],
   "source": [
    "# Removing missing data from ProsperRating column\n",
    "df_output = df_output.dropna(subset=['ProsperRating (Alpha)']).reset_index()"
   ]
  },
  {
   "cell_type": "code",
   "execution_count": 308,
   "id": "9c5a4fb1",
   "metadata": {},
   "outputs": [
    {
     "name": "stdout",
     "output_type": "stream",
     "text": [
      "<class 'pandas.core.frame.DataFrame'>\n",
      "RangeIndex: 84853 entries, 0 to 84852\n",
      "Data columns (total 14 columns):\n",
      " #   Column                     Non-Null Count  Dtype  \n",
      "---  ------                     --------------  -----  \n",
      " 0   index                      84853 non-null  int64  \n",
      " 1   Term                       84853 non-null  int64  \n",
      " 2   LoanStatus                 84853 non-null  object \n",
      " 3   BorrowerRate               84853 non-null  float64\n",
      " 4   ProsperRating (Alpha)      84853 non-null  object \n",
      " 5   ListingCategory (numeric)  84853 non-null  int64  \n",
      " 6   EmploymentStatus           84853 non-null  object \n",
      " 7   DelinquenciesLast7Years    84853 non-null  float64\n",
      " 8   StatedMonthlyIncome        84853 non-null  float64\n",
      " 9   TotalProsperLoans          19797 non-null  float64\n",
      " 10  LoanOriginalAmount         84853 non-null  int64  \n",
      " 11  LoanOriginationDate        84853 non-null  object \n",
      " 12  Recommendations            84853 non-null  int64  \n",
      " 13  Investors                  84853 non-null  int64  \n",
      "dtypes: float64(4), int64(6), object(4)\n",
      "memory usage: 9.1+ MB\n"
     ]
    }
   ],
   "source": [
    "# Checking the structure of the dataset\n",
    "df_output.info()"
   ]
  },
  {
   "cell_type": "markdown",
   "id": "ce6f1af3",
   "metadata": {},
   "source": [
    "Let's convert LoanOriginationDate to datetime data type :"
   ]
  },
  {
   "cell_type": "code",
   "execution_count": 309,
   "id": "17ebdf70",
   "metadata": {},
   "outputs": [],
   "source": [
    "# Converting the format of the LoanOriginationDate column\n",
    "df_output['LoanOriginationDate'] = pd.to_datetime(df_output['LoanOriginationDate'])"
   ]
  },
  {
   "cell_type": "code",
   "execution_count": 310,
   "id": "f94ee69b",
   "metadata": {},
   "outputs": [],
   "source": [
    "# Replace missing data in TotalProsperLoans column with zero\n",
    "df_output['TotalProsperLoans'] = df_output['TotalProsperLoans'].fillna(0)"
   ]
  },
  {
   "cell_type": "code",
   "execution_count": 311,
   "id": "b973677b",
   "metadata": {},
   "outputs": [
    {
     "name": "stdout",
     "output_type": "stream",
     "text": [
      "<class 'pandas.core.frame.DataFrame'>\n",
      "RangeIndex: 84853 entries, 0 to 84852\n",
      "Data columns (total 14 columns):\n",
      " #   Column                     Non-Null Count  Dtype         \n",
      "---  ------                     --------------  -----         \n",
      " 0   index                      84853 non-null  int64         \n",
      " 1   Term                       84853 non-null  int64         \n",
      " 2   LoanStatus                 84853 non-null  object        \n",
      " 3   BorrowerRate               84853 non-null  float64       \n",
      " 4   ProsperRating (Alpha)      84853 non-null  object        \n",
      " 5   ListingCategory (numeric)  84853 non-null  int64         \n",
      " 6   EmploymentStatus           84853 non-null  object        \n",
      " 7   DelinquenciesLast7Years    84853 non-null  float64       \n",
      " 8   StatedMonthlyIncome        84853 non-null  float64       \n",
      " 9   TotalProsperLoans          84853 non-null  float64       \n",
      " 10  LoanOriginalAmount         84853 non-null  int64         \n",
      " 11  LoanOriginationDate        84853 non-null  datetime64[ns]\n",
      " 12  Recommendations            84853 non-null  int64         \n",
      " 13  Investors                  84853 non-null  int64         \n",
      "dtypes: datetime64[ns](1), float64(4), int64(6), object(3)\n",
      "memory usage: 9.1+ MB\n"
     ]
    }
   ],
   "source": [
    "# Checking the structure of the dataset\n",
    "df_output.info()"
   ]
  },
  {
   "cell_type": "markdown",
   "id": "ac7dddcc",
   "metadata": {},
   "source": [
    "### What is/are the main feature(s) of interest in your dataset?"
   ]
  },
  {
   "cell_type": "markdown",
   "id": "93b673ad",
   "metadata": {},
   "source": [
    "Let's try to understand which features can be used to predict credit default. Also, we will want to check what are the main factors related to credit score prosperity.\n",
    "We believe borrowers' Prosper rating will have the greatest impact on default risk. We also expect the loan amount to play a major role and perhaps the credit category. Prosperity score will depend on reported income and employment status."
   ]
  },
  {
   "cell_type": "markdown",
   "id": "a5bd12e6",
   "metadata": {},
   "source": [
    "## Univariate exploration"
   ]
  },
  {
   "cell_type": "markdown",
   "id": "a5fdb035",
   "metadata": {},
   "source": [
    "### Loan status"
   ]
  },
  {
   "cell_type": "code",
   "execution_count": 312,
   "id": "9b1c1f8b",
   "metadata": {},
   "outputs": [
    {
     "data": {
      "image/png": "[encoded data removed]",
      "text/plain": [
       "<Figure size 432x288 with 1 Axes>"
      ]
     },
     "metadata": {
      "needs_background": "light"
     },
     "output_type": "display_data"
    }
   ],
   "source": [
    "# Display the number of observations in each categorical group of the LoanStatus column\n",
    "base_color = sns.color_palette()[1]\n",
    "plt.xticks(rotation=90)\n",
    "sns.countplot(data = df_output, x = 'LoanStatus', color = base_color,\n",
    "             order=['Completed', 'Current', 'Past Due (1-15 days)', 'Past Due (16-30 days)',\n",
    "                    'Past Due (31-60 days)', 'Past Due (61-90 days)', 'Past Due (91-120 days)', \n",
    "                    'Past Due (>120 days)', 'Defaulted', 'Chargedoff'])\n",
    "plt.ylabel('Counting')\n",
    "plt.xlabel('Loan status')\n",
    "plt.title('Loan status counting');"
   ]
  },
  {
   "cell_type": "markdown",
   "id": "c403e331",
   "metadata": {},
   "source": [
    "**Finding 1:**\n",
    "\n",
    "* Most of the loans in the dataset are actually current loans.\n",
    "\n",
    "\n",
    "* Overdue loans are divided into several groups based on the length of the delay in payment.\n",
    "\n",
    "\n",
    "* The other large portion is completed loans, defaulted loans jeopardize a minority, but written-off loans also jeopardize a substantial amount."
   ]
  },
  {
   "cell_type": "markdown",
   "id": "9cfd82fb",
   "metadata": {},
   "source": [
    "### Employment status"
   ]
  },
  {
   "cell_type": "code",
   "execution_count": 313,
   "id": "94d8e896",
   "metadata": {},
   "outputs": [
    {
     "data": {
      "image/png": "[encoded data removed]",
      "text/plain": [
       "<Figure size 432x288 with 1 Axes>"
      ]
     },
     "metadata": {
      "needs_background": "light"
     },
     "output_type": "display_data"
    }
   ],
   "source": [
    "# Displaying the number of observations in each categorical group in the EmploymentStatus column\n",
    "base_color = sns.color_palette()[2]\n",
    "sns.countplot(data = df_output, x = 'EmploymentStatus', color = base_color);\n",
    "plt.xticks(rotation = 90);\n",
    "plt.ylabel('Counting')\n",
    "plt.xlabel(\"Employment status\")\n",
    "plt.title(\"Employment status counting\");"
   ]
  },
  {
   "cell_type": "markdown",
   "id": "ae5ba416",
   "metadata": {},
   "source": [
    "**Finding 2:**\n",
    "\n",
    "* The majority of borrowers are employed and all other categories represent a small portion of borrowers.\n",
    "\n",
    "\n",
    "* In a small group, full time is the highest, after which the freelancers are there and so on."
   ]
  },
  {
   "cell_type": "markdown",
   "id": "8d415729",
   "metadata": {},
   "source": [
    "### Prosperity rating"
   ]
  },
  {
   "cell_type": "code",
   "execution_count": 337,
   "id": "40853ea3",
   "metadata": {},
   "outputs": [
    {
     "data": {
      "image/png": "[encoded data removed]",
      "text/plain": [
       "<Figure size 432x288 with 1 Axes>"
      ]
     },
     "metadata": {
      "needs_background": "light"
     },
     "output_type": "display_data"
    }
   ],
   "source": [
    "# Displaying the number of observations in each categorical group in the ProsperRating column\n",
    "base_color = sns.color_palette()[6]\n",
    "sns.countplot(data = df_output, x = 'ProsperRating (Alpha)', \n",
    "              color = base_color, order=['AA', 'A', 'B', 'C', 'D', 'E', 'HR'])\n",
    "plt.ylabel('Counting')\n",
    "plt.xlabel(\"Prosperity rating\")\n",
    "plt.title(\" Prosperity rating counting\");"
   ]
  },
  {
   "cell_type": "markdown",
   "id": "c995b28a",
   "metadata": {},
   "source": [
    "**Finding 3 :**\n",
    "\n",
    "* The most frequently rating is \"C\"."
   ]
  },
  {
   "cell_type": "markdown",
   "id": "a4e3264a",
   "metadata": {},
   "source": [
    "### Declared monthly income"
   ]
  },
  {
   "cell_type": "code",
   "execution_count": 315,
   "id": "ba581c73",
   "metadata": {},
   "outputs": [
    {
     "data": {
      "image/png": "[encoded data removed]",
      "text/plain": [
       "<Figure size 432x288 with 1 Axes>"
      ]
     },
     "metadata": {
      "needs_background": "light"
     },
     "output_type": "display_data"
    }
   ],
   "source": [
    "# Showing the Histogram of the StatedMonthlyIncome Column\n",
    "plt.hist(data=df_output, x='StatedMonthlyIncome', bins=1000);\n",
    "plt.ylabel('Frequency')\n",
    "plt.xlabel(\"Declared monthly income\")\n",
    "plt.title(\"Distribution of Declared monthly income\");"
   ]
  },
  {
   "cell_type": "markdown",
   "id": "eef69373",
   "metadata": {},
   "source": [
    "**Note**: The reported monthly income distribution is heavily skewed to the right. So we need to check the number of outliers"
   ]
  },
  {
   "cell_type": "code",
   "execution_count": 316,
   "id": "08455f01",
   "metadata": {},
   "outputs": [],
   "source": [
    "# First quantile\n",
    "Q1 = df_output['StatedMonthlyIncome'].quantile(0.25)\n",
    "# Third quantile\n",
    "Q3 = df_output['StatedMonthlyIncome'].quantile(0.75)\n",
    "# IQR\n",
    "IQR = Q3 - Q1\n",
    "# Default Outlier Threshold\n",
    "DOT = Q1 - 1.5*IQR\n",
    "# Excess Outlier Threshold\n",
    "EOT = Q3 + 1.5*IQR"
   ]
  },
  {
   "cell_type": "code",
   "execution_count": 317,
   "id": "ec59afc7",
   "metadata": {
    "scrolled": true
   },
   "outputs": [
    {
     "data": {
      "text/plain": [
       "3923"
      ]
     },
     "execution_count": 317,
     "metadata": {},
     "output_type": "execute_result"
    }
   ],
   "source": [
    "# Showing the number of outliers\n",
    "len(df_output[df_output['StatedMonthlyIncome'] >= EOT]) +\\\n",
    "len(df_output[df_output['StatedMonthlyIncome'] <= DOT])"
   ]
  },
  {
   "cell_type": "code",
   "execution_count": 318,
   "id": "77b0a3dc",
   "metadata": {},
   "outputs": [
    {
     "data": {
      "text/plain": [
       "12557.333332499999"
      ]
     },
     "execution_count": 318,
     "metadata": {},
     "output_type": "execute_result"
    }
   ],
   "source": [
    "EOT"
   ]
  },
  {
   "cell_type": "markdown",
   "id": "7da8b244",
   "metadata": {},
   "source": [
    "**After zooming in on the graph, we get this**"
   ]
  },
  {
   "cell_type": "code",
   "execution_count": 319,
   "id": "4e786b30",
   "metadata": {},
   "outputs": [
    {
     "data": {
      "text/plain": [
       "1750002.916667"
      ]
     },
     "execution_count": 319,
     "metadata": {},
     "output_type": "execute_result"
    }
   ],
   "source": [
    "df_output['StatedMonthlyIncome'].max()"
   ]
  },
  {
   "cell_type": "code",
   "execution_count": 320,
   "id": "cc367f33",
   "metadata": {
    "scrolled": false
   },
   "outputs": [
    {
     "data": {
      "image/png": "[encoded data removed]",
      "text/plain": [
       "<Figure size 432x288 with 1 Axes>"
      ]
     },
     "metadata": {
      "needs_background": "light"
     },
     "output_type": "display_data"
    }
   ],
   "source": [
    "# Distribution of the StatedMonthlyIncome column without outliers\n",
    "plt.hist(data=df_output, x='StatedMonthlyIncome', bins=1000);\n",
    "plt.xlim(0, EOT+10000)\n",
    "plt.grid()\n",
    "plt.ylabel('Frequency')\n",
    "plt.xlabel(\"Declared monthly income\")\n",
    "plt.title(\"Distribution of reported monthly income without outliers\");"
   ]
  },
  {
   "cell_type": "markdown",
   "id": "b7023b44",
   "metadata": {},
   "source": [
    "**Finding 4:**\n",
    "\n",
    "* The monthly income distribution still has a noticeable right skew, but now we can see that the mode is around 5000."
   ]
  },
  {
   "cell_type": "markdown",
   "id": "bc226757",
   "metadata": {},
   "source": [
    "### Discuss the distribution(s) of your variables of interest. Were there any unusual points? Did you need to perform any transformations?"
   ]
  },
  {
   "cell_type": "markdown",
   "id": "32d856f8",
   "metadata": {},
   "source": [
    "The monthly reported income distribution is very **awkward**: with lots of outliers and a very wide range, but it was still skewed. The majority of borrowers are employed and all other categories a small portion of borrowers and most loans in the data set are actually outstanding loans."
   ]
  },
  {
   "cell_type": "markdown",
   "id": "1d1ee812",
   "metadata": {},
   "source": [
    "### Among the features you investigated, were there any unusual distributions? Did you perform any data operations to tidy, adjust, or change the shape of the data? If so, why did you do this?"
   ]
  },
  {
   "cell_type": "markdown",
   "id": "1099ad43",
   "metadata": {},
   "source": [
    "The majority of credits are actually current credits. Since our primary focus is to define the determinants of loan outcome, we are not interested in active loans."
   ]
  },
  {
   "cell_type": "markdown",
   "id": "5e0f4fb2",
   "metadata": {},
   "source": [
    "## Bivariate exploration"
   ]
  },
  {
   "cell_type": "code",
   "execution_count": 321,
   "id": "8157e001",
   "metadata": {},
   "outputs": [
    {
     "data": {
      "text/plain": [
       "Completed    19664\n",
       "Defaulted     6341\n",
       "Name: LoanStatus, dtype: int64"
      ]
     },
     "execution_count": 321,
     "metadata": {},
     "output_type": "execute_result"
    }
   ],
   "source": [
    "# Data Shape Adjustment\n",
    "condition = (df_output['LoanStatus'] == 'Completed') | (df_output['LoanStatus'] == 'Defaulted') |\\\n",
    "                  (df_output['LoanStatus'] == 'Chargedoff')\n",
    "df_output = df_output[condition]\n",
    "\n",
    "def default_change(row):\n",
    "    if row['LoanStatus'] == 'Chargedoff':\n",
    "        return 'Defaulted'\n",
    "    else:\n",
    "        return row['LoanStatus']\n",
    "    \n",
    "df_output['LoanStatus'] = df_output.apply(default_change, axis=1)\n",
    "df_output['LoanStatus'].value_counts()"
   ]
  },
  {
   "cell_type": "markdown",
   "id": "88a65c02",
   "metadata": {},
   "source": [
    "**After transforming the dataset, we have 19,664 completed loans and 6,341 in defaulted.**"
   ]
  },
  {
   "cell_type": "code",
   "execution_count": 322,
   "id": "5ab7367d",
   "metadata": {},
   "outputs": [
    {
     "data": {
      "text/plain": [
       "Debt Consolidation    12740\n",
       "Other                  7083\n",
       "Home Improvement       2612\n",
       "Business               2366\n",
       "Auto                   1204\n",
       "Name: ListingCategory (numeric), dtype: int64"
      ]
     },
     "execution_count": 322,
     "metadata": {},
     "output_type": "execute_result"
    }
   ],
   "source": [
    "# Reduction of the number of categories\n",
    "categories = {1: 'Debt Consolidation', 2: 'Home Improvement', 3: 'Business', 6: 'Auto', 7: 'Other'}\n",
    "def reduce_categorie(row):\n",
    "    loan_category = row['ListingCategory (numeric)']\n",
    "    if  loan_category in categories:\n",
    "        return categories[loan_category]\n",
    "    else:\n",
    "        return categories[7]\n",
    "    \n",
    "df_output['ListingCategory (numeric)'] = df_output.apply(reduce_categorie, axis=1)\n",
    "df_output['ListingCategory (numeric)'].value_counts()"
   ]
  },
  {
   "cell_type": "markdown",
   "id": "a53201a8",
   "metadata": {},
   "source": [
    "**The variable list category is configured as numeric and most of the values ​​have a very low frequency, for easier viewing, so we changed it to a category and reduced the number of categories.**"
   ]
  },
  {
   "cell_type": "markdown",
   "id": "a282c917",
   "metadata": {},
   "source": [
    "### Loan Status and Prosperity Rating"
   ]
  },
  {
   "cell_type": "code",
   "execution_count": 323,
   "id": "4cb6e77f",
   "metadata": {},
   "outputs": [
    {
     "data": {
      "image/png": "[encoded data removed]",
      "text/plain": [
       "<Figure size 432x288 with 1 Axes>"
      ]
     },
     "metadata": {
      "needs_background": "light"
     },
     "output_type": "display_data"
    }
   ],
   "source": [
    "# Display the number of observations in each categorical\n",
    "# group, the LoanStatus and ProsperRating columns (Alpha)\n",
    "sns.countplot(data = df_output, x = 'LoanStatus', hue = 'ProsperRating (Alpha)', palette = 'Accent')\n",
    "plt.ylabel('Counting')\n",
    "plt.xlabel(\"Loan status\")\n",
    "plt.title(\"Loan Status Count and Prosperity Rating (Alpha)\");"
   ]
  },
  {
   "cell_type": "markdown",
   "id": "bc609891",
   "metadata": {},
   "source": [
    "**Finding 1:**\n",
    "\n",
    "* The most common rating among loans in default is actually \"D\".\n",
    "\n",
    "\n",
    "* And the highest grade among the completed is also \"D\" and the second highest is \"A\" and so on."
   ]
  },
  {
   "cell_type": "markdown",
   "id": "a3648a8b",
   "metadata": {},
   "source": [
    "### Credit start with registration category"
   ]
  },
  {
   "cell_type": "code",
   "execution_count": 324,
   "id": "509ac2bd",
   "metadata": {},
   "outputs": [
    {
     "data": {
      "image/png": "[encoded data removed]",
      "text/plain": [
       "<Figure size 432x288 with 1 Axes>"
      ]
     },
     "metadata": {
      "needs_background": "light"
     },
     "output_type": "display_data"
    }
   ],
   "source": [
    "# Display the number of observations in each categorical \n",
    "# group of the LoanStatus and ListingCategory column(numeric)\n",
    "sns.countplot(data = df_output, x = 'LoanStatus', hue = 'ListingCategory (numeric)', palette = 'Accent')\n",
    "plt.ylabel('Counting')\n",
    "plt.xlabel(\"Loan status\")\n",
    "plt.title(\"Loan status count and category list (numeric)\");"
   ]
  },
  {
   "cell_type": "markdown",
   "id": "c0de84c8",
   "metadata": {},
   "source": [
    "**Finding 2:**\n",
    "\n",
    "* In both graphs, \"debt consolidation\" has the highest frequency among all."
   ]
  },
  {
   "cell_type": "markdown",
   "id": "711dcc35",
   "metadata": {},
   "source": [
    "### Employment status and loan status"
   ]
  },
  {
   "cell_type": "code",
   "execution_count": 325,
   "id": "937477ff",
   "metadata": {},
   "outputs": [
    {
     "data": {
      "image/png": "[encoded data removed]",
      "text/plain": [
       "<Figure size 432x288 with 1 Axes>"
      ]
     },
     "metadata": {
      "needs_background": "light"
     },
     "output_type": "display_data"
    }
   ],
   "source": [
    "# Display the number of observations in each categorical \n",
    "# group of the LoanStatus and ListingCategory column (numeric)\n",
    "sns.countplot(data = df_output, x = 'LoanStatus', hue = 'EmploymentStatus', palette = 'Accent')\n",
    "plt.ylabel('Counting')\n",
    "plt.xlabel(\"Loan status\")\n",
    "plt.title(\"Counting loan statuses and employment statuses\");"
   ]
  },
  {
   "cell_type": "markdown",
   "id": "a95f37a0",
   "metadata": {},
   "source": [
    "**Finding 3:**\n",
    "\n",
    "* From the graph above, we can say that \"employees\" are taking more loans."
   ]
  },
  {
   "cell_type": "markdown",
   "id": "ca412519",
   "metadata": {},
   "source": [
    "### Loan status and loan amount"
   ]
  },
  {
   "cell_type": "code",
   "execution_count": 326,
   "id": "c9d1facb",
   "metadata": {},
   "outputs": [
    {
     "data": {
      "image/png": "[encoded data removed]",
      "text/plain": [
       "<Figure size 432x288 with 1 Axes>"
      ]
     },
     "metadata": {
      "needs_background": "light"
     },
     "output_type": "display_data"
    }
   ],
   "source": [
    "# Box and whisker plot display for the LoanStatus column\n",
    "base_color = sns.color_palette()[4]\n",
    "sns.boxplot(data = df_output, x = 'LoanStatus', y = 'LoanOriginalAmount', color = base_color);\n",
    "plt.xlabel('Loan status')\n",
    "plt.ylabel(\"Loan amount\")\n",
    "plt.title(\"Loan amount based on loan status\");"
   ]
  },
  {
   "cell_type": "markdown",
   "id": "c0f42a92",
   "metadata": {},
   "source": [
    "**Finding 4:**\n",
    "\n",
    "* From the chart above, we can tell that \"Defaulted Loans\" tend to be smaller than \"Completed Loans\"."
   ]
  },
  {
   "cell_type": "markdown",
   "id": "68478efe",
   "metadata": {},
   "source": [
    "### Prosperity rating and employment status"
   ]
  },
  {
   "cell_type": "code",
   "execution_count": 327,
   "id": "6fceeb7a",
   "metadata": {},
   "outputs": [
    {
     "data": {
      "image/png": "[encoded data removed]",
      "text/plain": [
       "<Figure size 864x720 with 1 Axes>"
      ]
     },
     "metadata": {
      "needs_background": "light"
     },
     "output_type": "display_data"
    }
   ],
   "source": [
    "# Display the number of observations in each categorical \n",
    "# group of the ProsperRating (Alpha) and EmploymentStatus column\n",
    "plt.figure(figsize = [12, 10])\n",
    "sns.countplot(data = df_output, x = 'ProsperRating (Alpha)', hue = 'EmploymentStatus', \n",
    "              palette = 'Accent', order=['AA', 'A', 'B', 'C', 'D', 'E', 'HR'])\n",
    "plt.ylabel('Counting')\n",
    "plt.xlabel(\"Prosperity rating\")\n",
    "plt.title(\"Counting Prosperity Rating and Employment Status\");"
   ]
  },
  {
   "cell_type": "markdown",
   "id": "f9a176f1",
   "metadata": {},
   "source": [
    "**Finding 5:**\n",
    "\n",
    "* The lower coasts seem to have larger proportions of people with the employment status \"Not employed\", \"Self-employed\", \"Retired\" and \"Part-time\"."
   ]
  },
  {
   "cell_type": "markdown",
   "id": "972318d2",
   "metadata": {},
   "source": [
    "### Loan amount and employment status"
   ]
  },
  {
   "cell_type": "code",
   "execution_count": 328,
   "id": "2dfe9967",
   "metadata": {},
   "outputs": [
    {
     "data": {
      "image/png": "[encoded data removed]",
      "text/plain": [
       "<Figure size 432x288 with 1 Axes>"
      ]
     },
     "metadata": {
      "needs_background": "light"
     },
     "output_type": "display_data"
    }
   ],
   "source": [
    "# Box and whisker plot display for the LoanStatus column\n",
    "base_color = sns.color_palette()[9]\n",
    "sns.boxplot(data = df_output, x = 'EmploymentStatus', y = 'LoanOriginalAmount', color = base_color);\n",
    "plt.xlabel(\"Employment status\")\n",
    "plt.ylabel(\"Loan amount\")\n",
    "plt.title(\"Loan amount based on employment status\")\n",
    "plt.xticks(rotation=50);"
   ]
  },
  {
   "cell_type": "markdown",
   "id": "75a92ae5",
   "metadata": {},
   "source": [
    "**Finding 6:**\n",
    "\n",
    "* From the graph above, we can tell that \"employees\" tend to take the largest loan amounts"
   ]
  },
  {
   "cell_type": "markdown",
   "id": "5ed1c55b",
   "metadata": {},
   "source": [
    "### Talk about some of the relationships you observed in this part of the survey. How did the feature(s) of interest vary with other features in the dataset?"
   ]
  },
  {
   "cell_type": "markdown",
   "id": "11daeb0b",
   "metadata": {},
   "source": [
    "In loan status versus loan amount, defaulted loans tend to be smaller than once-completed loans. The employment status of people with lower ratings tends to be \"Not employed\", \"Self-employed\", \"Retired\", or \"Part-time\"."
   ]
  },
  {
   "cell_type": "markdown",
   "id": "660a3951",
   "metadata": {},
   "source": [
    "### Did you observe any interesting relationships between the other features (not the main feature(s) of interest)?"
   ]
  },
  {
   "cell_type": "markdown",
   "id": "87ae1f10",
   "metadata": {},
   "source": [
    "The Prosperity \"D\" rating is the most common rating among defaulted loans."
   ]
  },
  {
   "cell_type": "markdown",
   "id": "f0742184",
   "metadata": {},
   "source": [
    "## Multivariate exploration"
   ]
  },
  {
   "cell_type": "markdown",
   "id": "42e900fc",
   "metadata": {},
   "source": [
    "### Rating, loan amount and loan status"
   ]
  },
  {
   "cell_type": "code",
   "execution_count": 336,
   "id": "86194707",
   "metadata": {},
   "outputs": [
    {
     "data": {
      "image/png": "[encoded data removed]",
      "text/plain": [
       "<Figure size 864x576 with 1 Axes>"
      ]
     },
     "metadata": {
      "needs_background": "light"
     },
     "output_type": "display_data"
    }
   ],
   "source": [
    "# Box and whisker plot display for the ProsperRating column\n",
    "base_color = sns.color_palette()[9]\n",
    "plt.figure(figsize = [12, 8])\n",
    "sns.boxplot(data=df_output, x='ProsperRating (Alpha)', \n",
    "            y='LoanOriginalAmount', hue='LoanStatus', color = base_color,\n",
    "            order=['AA', 'A', 'B', 'C', 'D', 'E', 'HR'])\n",
    "plt.ylabel('Loan amount')\n",
    "plt.xlabel(\"Prosperity rating\")\n",
    "plt.title(\"Loan Amount and Loan Status by Prosperity Rating\");"
   ]
  },
  {
   "cell_type": "markdown",
   "id": "7e40a06e",
   "metadata": {},
   "source": [
    "**Finding 1:**\n",
    "\n",
    "* With the exception of the lowest ratings, defaulted credits tend to be larger than completed credits.\n",
    "\n",
    "\n",
    "* Most defaulted loans come from people with low prosperity ratings."
   ]
  },
  {
   "cell_type": "markdown",
   "id": "48ee3168",
   "metadata": {},
   "source": [
    "### Rating, loan amount and employment status"
   ]
  },
  {
   "cell_type": "code",
   "execution_count": 334,
   "id": "5353bdb4",
   "metadata": {},
   "outputs": [
    {
     "data": {
      "image/png": "[encoded data removed]",
      "text/plain": [
       "<Figure size 864x576 with 1 Axes>"
      ]
     },
     "metadata": {
      "needs_background": "light"
     },
     "output_type": "display_data"
    }
   ],
   "source": [
    "# Box and whisker plot display for the ProsperRating column\n",
    "base_color = sns.color_palette()[5]\n",
    "plt.figure(figsize = [12, 8])\n",
    "sns.boxplot(data=df_output, x='ProsperRating (Alpha)', y='LoanOriginalAmount', \n",
    "            hue='EmploymentStatus', color = base_color, \n",
    "            order=['AA', 'A', 'B', 'C', 'D', 'E', 'HR'])\n",
    "plt.ylabel('Loan amount')\n",
    "plt.xlabel(\"Prosperity rating\")\n",
    "plt.title(\"Loan Amount and Loan Status by Prosperity Rating\");"
   ]
  },
  {
   "cell_type": "markdown",
   "id": "d7c6f1ee",
   "metadata": {},
   "source": [
    "**Finding 2:**\n",
    "\n",
    "* With the exception of the lowest grades, employees tend to be more important than completed credits.\n",
    "\n",
    "\n",
    "* Most employees have a low prosperity rating."
   ]
  },
  {
   "cell_type": "markdown",
   "id": "8903653b",
   "metadata": {},
   "source": [
    "### Relationships between credit category, credit rating and credit score"
   ]
  },
  {
   "cell_type": "code",
   "execution_count": 333,
   "id": "16ca1d5c",
   "metadata": {},
   "outputs": [
    {
     "data": {
      "image/png": "[encoded data removed]",
      "text/plain": [
       "<Figure size 1170.12x720 with 5 Axes>"
      ]
     },
     "metadata": {
      "needs_background": "light"
     },
     "output_type": "display_data"
    }
   ],
   "source": [
    "# Diagrams to illustrate the relationship between the ProsperRating, LoanStatus, and ListingCategory columns\n",
    "sns.catplot(x = 'ProsperRating (Alpha)', hue = 'LoanStatus', col = 'ListingCategory (numeric)',\n",
    "              data = df_output, kind = 'count', palette = 'Accent', col_wrap = 3, \n",
    "            order=['AA', 'A', 'B', 'C', 'D', 'E', 'HR']);"
   ]
  },
  {
   "cell_type": "markdown",
   "id": "868d2e0b",
   "metadata": {},
   "source": [
    "**Finding 3:**\n",
    "\n",
    "* There are 5 charts in the second which have many highs and lows other than all.\n",
    "\n",
    "\n",
    "* There is no substantial difference for the default rates in the different categories broken down by rating."
   ]
  },
  {
   "cell_type": "markdown",
   "id": "e72ecc3f",
   "metadata": {},
   "source": [
    "### Relationship between Loan Amount, Loan Category and Loan Status"
   ]
  },
  {
   "cell_type": "code",
   "execution_count": 332,
   "id": "2094acc3",
   "metadata": {},
   "outputs": [
    {
     "data": {
      "image/png": "[encoded data removed]",
      "text/plain": [
       "<Figure size 864x576 with 1 Axes>"
      ]
     },
     "metadata": {
      "needs_background": "light"
     },
     "output_type": "display_data"
    }
   ],
   "source": [
    "# Diagram to present the interactions between the ListingCategory, LoanStatus and LoanOriginalAmount columns\n",
    "plt.figure(figsize = [12, 8])\n",
    "sns.violinplot(data=df_output, x='ListingCategory (numeric)', y='LoanOriginalAmount', \n",
    "               hue='LoanStatus', palette = 'Accent');\n",
    "plt.ylabel('Loan amount')\n",
    "plt.xlabel(\"Loan category\")\n",
    "plt.title(\"Loan amount and loan status by loan category\");"
   ]
  },
  {
   "cell_type": "markdown",
   "id": "38840629",
   "metadata": {},
   "source": [
    "**Finding 4:**\n",
    "\n",
    "* With the exception of automotive, business and home improvement do not average nearly evenly between them.\n",
    "\n",
    "\n",
    "* The business category tends to have a higher amount."
   ]
  },
  {
   "cell_type": "markdown",
   "id": "d413d542",
   "metadata": {},
   "source": [
    "### Talk about some of the relationships you observed in this part of the survey. Were there any features that got stronger in terms of reviewing your features of interest?"
   ]
  },
  {
   "cell_type": "markdown",
   "id": "99d18372",
   "metadata": {},
   "source": [
    "Our initial assumptions have been reinforced. Most defaulted credits come from people with a low Prosper rating and the Business category tends to have a higher amount."
   ]
  },
  {
   "cell_type": "markdown",
   "id": "06325a33",
   "metadata": {},
   "source": [
    "### Were there any interesting or surprising feature interactions?"
   ]
  },
  {
   "cell_type": "markdown",
   "id": "ee6c0672",
   "metadata": {},
   "source": [
    "An interesting finding is that past due credits for people with high prosperity ratings tend to be larger than completed credits."
   ]
  }
 ],
 "metadata": {
  "hide_input": false,
  "kernelspec": {
   "display_name": "Python 3 (ipykernel)",
   "language": "python",
   "name": "python3"
  },
  "language_info": {
   "codemirror_mode": {
    "name": "ipython",
    "version": 3
   },
   "file_extension": ".py",
   "mimetype": "text/x-python",
   "name": "python",
   "nbconvert_exporter": "python",
   "pygments_lexer": "ipython3",
   "version": "3.9.7"
  }
 },
 "nbformat": 4,
 "nbformat_minor": 5
}
